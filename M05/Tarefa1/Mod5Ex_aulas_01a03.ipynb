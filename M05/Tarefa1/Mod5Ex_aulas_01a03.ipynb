{
 "cells": [
  {
   "cell_type": "markdown",
   "metadata": {},
   "source": [
    "# Módulo 5 Tarefa 1\n",
    "## Base de nascidos vivos do DataSUS\n",
    "O DataSUS disponibiliza diversos arquivos de dados com relação a seus segurados, conforme a [lei da transparência de informações públicas](https://www.sisgov.com/transparencia-acesso-informacao/#:~:text=A%20Lei%20da%20Transpar%C3%AAncia%20(LC,em%20um%20site%20na%20internet.). \n",
    "\n",
    "Essas informações podem ser obtidas pela internet [aqui](http://www2.datasus.gov.br/DATASUS/index.php?area=0901&item=1). Como o processo de obtenção desses arquivos foge um pouco do nosso escopo, deixamos o arquivo ```SINASC_RO_2019.csv``` já como vai ser encontrado no DataSUS. O dicionário de dados está no arquivo ```estrutura_sinasc_para_CD.pdf``` (o nome do arquivo tal qual no portal do DataSUS).\n",
    "\n",
    "### Nosso objetivo\n",
    "Queremos deixar uma base organizada para podermos estudar a relação entre partos com risco para o bebê e algumas condições como tempo de parto, consultas de pré-natal etc.\n",
    "\n",
    "#### Preparação da base\n",
    "1. Carregue a base 'SINASC_RO_2019.csv'. Conte o número de registros e o número de registros não duplicados da base. Dica: você aprendeu um método que remove duplicados, encadeie este método com um outro método que conta o número de linhas. **Há linhas duplicadas?**  \n",
    "\n",
    "2. Conte o número de valores *missing* por variável.  \n",
    "\n",
    "3. Ok, no item anterior você deve ter achado pouco prático ler a informação de tantas variáveis, muitas delas nem devem ser interesantes. Então crie uma seleção dessa base somente com as colunas que interessam. São elas:\n",
    "``` \n",
    "['LOCNASC', 'IDADEMAE', 'ESTCIVMAE', 'ESCMAE', 'QTDFILVIVO', \n",
    "    'GESTACAO', 'GRAVIDEZ', 'CONSULTAS', 'APGAR5'] \n",
    "```\n",
    "Refaça a contagem de valores *missings*.  \n",
    "\n",
    "4. Apgar é uma *nota* que o pediatra dá ao bebê quando nasce de acordo com algumas características associadas principalmente à respiração. Apgar 1 e Apgar 5 são as notas 1 e 5 minutos do nascimento. Apgar5 será a nossa variável de interesse principal. Então remova todos os registros com Apgar5 não preenchido. Para esta seleção, conte novamente o número de linhas e o número de *missings*.  \n",
    "\n",
    "5. observe que as variáveis ```['ESTCIVMAE', 'CONSULTAS']``` possuem o código ```9```, que significa *ignorado*. Vamos assumir que o não preenchido é o mesmo que o código ```9```.<br>\n",
    "6. Substitua os valores faltantes da quantitativa (```QTDFILVIVO```) por zero.  \n",
    "7. Das restantes, decida que valore te parece mais adequado (um 'não preenchido' ou um valor 'mais provável' como no item anterior) e preencha. Justifique. Lembre-se de que tratamento de dados é trabalho do cientista, e que estamos tomando decisões a todo o momento - não há necessariamente certo e errado aqui.  \n",
    "8. O Apgar possui uma classificação indicando se o bebê passou por asfixia:\n",
    "- Entre 8 e 10 está em uma faixa 'normal'. \n",
    "- Entre 6 e 7, significa que o recém-nascido passou por 'asfixia leve'. \n",
    "- Entre 4 e 5 significa 'asfixia moderada'.\n",
    "- Entre 0 e 3 significa 'asfixia severa'.  \n",
    "\n",
    "Crie uma categorização dessa variável com essa codificação e calcule as frequências dessa categorização.  \n",
    "<br>\n",
    "9. Renomeie as variáveis para que fiquem no *snake case*, ou seja, em letras minúsculas, com um *underscore* entre as palávras. Dica: repare que se você não quiser criar um *dataframe* novo, você vai precisar usar a opção ```inplace = True```."
   ]
  },
  {
   "cell_type": "code",
   "execution_count": 1,
   "metadata": {
    "tags": []
   },
   "outputs": [
    {
     "name": "stdout",
     "output_type": "stream",
     "text": [
      "(27028, 69)\n"
     ]
    },
    {
     "data": {
      "text/plain": [
       "(27028, 69)"
      ]
     },
     "execution_count": 1,
     "metadata": {},
     "output_type": "execute_result"
    }
   ],
   "source": [
    "import pandas as pd\n",
    "import requests\n",
    "\n",
    "# 1) seu código aqui\n",
    "\n",
    "dados = pd.read_csv('SINASC_RO_2019.csv')\n",
    "print(dados.shape)\n",
    "dados.drop_duplicates().shape\n"
   ]
  },
  {
   "cell_type": "markdown",
   "metadata": {},
   "source": [
    "Não há duplicado."
   ]
  },
  {
   "cell_type": "code",
   "execution_count": 2,
   "metadata": {
    "tags": []
   },
   "outputs": [
    {
     "name": "stdout",
     "output_type": "stream",
     "text": [
      "ORIGEM              0\n",
      "CODESTAB          115\n",
      "CODMUNNASC          0\n",
      "LOCNASC             0\n",
      "IDADEMAE            0\n",
      "ESTCIVMAE         317\n",
      "ESCMAE            312\n",
      "CODOCUPMAE       2907\n",
      "QTDFILVIVO       1573\n",
      "QTDFILMORT       2098\n",
      "CODMUNRES           0\n",
      "GESTACAO         1232\n",
      "GRAVIDEZ           79\n",
      "PARTO              49\n",
      "CONSULTAS           0\n",
      "DTNASC              0\n",
      "HORANASC           21\n",
      "SEXO                4\n",
      "APGAR1             96\n",
      "APGAR5            103\n",
      "RACACOR           647\n",
      "PESO                0\n",
      "IDANOMAL          591\n",
      "DTCADASTRO          0\n",
      "CODANOMAL       26814\n",
      "NUMEROLOTE          0\n",
      "VERSAOSIST          0\n",
      "DTRECEBIM           0\n",
      "DIFDATA             0\n",
      "DTRECORIGA      27028\n",
      "NATURALMAE        298\n",
      "CODMUNNATU        298\n",
      "CODUFNATU         298\n",
      "ESCMAE2010        249\n",
      "SERIESCMAE      12710\n",
      "DTNASCMAE          40\n",
      "RACACORMAE        661\n",
      "QTDGESTANT       1212\n",
      "QTDPARTNOR       1879\n",
      "QTDPARTCES       1791\n",
      "IDADEPAI        19421\n",
      "DTULTMENST      10072\n",
      "SEMAGESTAC       1238\n",
      "TPMETESTIM       1238\n",
      "CONSPRENAT        930\n",
      "MESPRENAT        2867\n",
      "TPAPRESENT        265\n",
      "STTRABPART        947\n",
      "STCESPARTO        747\n",
      "TPNASCASSI         61\n",
      "TPFUNCRESP         67\n",
      "TPDOCRESP          14\n",
      "DTDECLARAC         52\n",
      "ESCMAEAGR1        249\n",
      "STDNEPIDEM          0\n",
      "STDNNOVA            0\n",
      "CODPAISRES          0\n",
      "TPROBSON            0\n",
      "PARIDADE            0\n",
      "KOTELCHUCK          0\n",
      "CONTADOR            0\n",
      "munResStatus        0\n",
      "munResTipo          0\n",
      "munResNome          0\n",
      "munResUf            0\n",
      "munResLat           1\n",
      "munResLon           1\n",
      "munResAlt           1\n",
      "munResArea          1\n",
      "dtype: int64\n"
     ]
    }
   ],
   "source": [
    "# 2) seu código aqui\n",
    "\n",
    "with pd.option_context('display.max_rows', None):\n",
    "    print(dados.isna().sum())"
   ]
  },
  {
   "cell_type": "code",
   "execution_count": 3,
   "metadata": {
    "tags": []
   },
   "outputs": [
    {
     "name": "stdout",
     "output_type": "stream",
     "text": [
      "LOCNASC          0\n",
      "IDADEMAE         0\n",
      "ESTCIVMAE      317\n",
      "ESCMAE         312\n",
      "QTDFILVIVO    1573\n",
      "GESTACAO      1232\n",
      "GRAVIDEZ        79\n",
      "CONSULTAS        0\n",
      "APGAR5         103\n",
      "dtype: int64\n"
     ]
    }
   ],
   "source": [
    "# 3) seu código aqui\n",
    "\n",
    "colunas = ['LOCNASC', 'IDADEMAE', 'ESTCIVMAE', 'ESCMAE', 'QTDFILVIVO',  \n",
    "    'GESTACAO', 'GRAVIDEZ', 'CONSULTAS', 'APGAR5']\n",
    "print(dados[colunas].isna().sum())"
   ]
  },
  {
   "cell_type": "code",
   "execution_count": 4,
   "metadata": {
    "tags": []
   },
   "outputs": [
    {
     "name": "stdout",
     "output_type": "stream",
     "text": [
      "Número de Linhas: 26925\n",
      "LOCNASC          0\n",
      "IDADEMAE         0\n",
      "ESTCIVMAE      315\n",
      "ESCMAE         310\n",
      "QTDFILVIVO    1566\n",
      "GESTACAO      1216\n",
      "GRAVIDEZ        76\n",
      "CONSULTAS        0\n",
      "APGAR5           0\n",
      "dtype: int64\n"
     ]
    }
   ],
   "source": [
    "# 4) seu código aqui\n",
    "dados = dados.dropna(subset=['APGAR5'])\n",
    "\n",
    "print(\"Número de Linhas:\", dados.shape[0])\n",
    "print(dados[colunas].isna().sum())"
   ]
  },
  {
   "cell_type": "code",
   "execution_count": 5,
   "metadata": {
    "tags": []
   },
   "outputs": [
    {
     "name": "stdout",
     "output_type": "stream",
     "text": [
      "LOCNASC          0\n",
      "IDADEMAE         0\n",
      "ESTCIVMAE        0\n",
      "ESCMAE         310\n",
      "QTDFILVIVO    1566\n",
      "GESTACAO      1216\n",
      "GRAVIDEZ        76\n",
      "CONSULTAS        0\n",
      "APGAR5           0\n",
      "dtype: int64\n"
     ]
    }
   ],
   "source": [
    "# 5) seu código aqui\n",
    "dados['ESTCIVMAE'].fillna(9, inplace=True)\n",
    "dados['CONSULTAS'].fillna(9, inplace=True)\n",
    "print(dados[colunas].isna().sum())"
   ]
  },
  {
   "cell_type": "code",
   "execution_count": 6,
   "metadata": {
    "tags": []
   },
   "outputs": [
    {
     "name": "stdout",
     "output_type": "stream",
     "text": [
      "LOCNASC          0\n",
      "IDADEMAE         0\n",
      "ESTCIVMAE        0\n",
      "ESCMAE         310\n",
      "QTDFILVIVO       0\n",
      "GESTACAO      1216\n",
      "GRAVIDEZ        76\n",
      "CONSULTAS        0\n",
      "APGAR5           0\n",
      "dtype: int64\n"
     ]
    }
   ],
   "source": [
    "# 6) Seu código aqui\n",
    "dados['QTDFILVIVO'].fillna(0, inplace=True)\n",
    "print(dados[colunas].isna().sum())"
   ]
  },
  {
   "cell_type": "code",
   "execution_count": 7,
   "metadata": {},
   "outputs": [
    {
     "data": {
      "text/plain": [
       "8 a 11 anos        15581\n",
       "12 anos ou mais     5757\n",
       "4 a 7 anos          4727\n",
       "1 a 3 anos           510\n",
       "Nenhuma               40\n",
       "Name: ESCMAE, dtype: int64"
      ]
     },
     "execution_count": 7,
     "metadata": {},
     "output_type": "execute_result"
    }
   ],
   "source": [
    "# 7) seu código aqui\n",
    "dados['ESCMAE'].value_counts()"
   ]
  },
  {
   "cell_type": "code",
   "execution_count": 8,
   "metadata": {
    "tags": []
   },
   "outputs": [
    {
     "data": {
      "text/plain": [
       "8 a 11 anos        15581\n",
       "12 anos ou mais     5757\n",
       "4 a 7 anos          4727\n",
       "1 a 3 anos           510\n",
       "Não informado        310\n",
       "Nenhuma               40\n",
       "Name: ESCMAE, dtype: int64"
      ]
     },
     "execution_count": 8,
     "metadata": {},
     "output_type": "execute_result"
    }
   ],
   "source": [
    "dados['ESCMAE'].fillna('Não informado', inplace=True)\n",
    "dados['ESCMAE'].value_counts()"
   ]
  },
  {
   "cell_type": "code",
   "execution_count": 9,
   "metadata": {
    "tags": []
   },
   "outputs": [
    {
     "data": {
      "text/plain": [
       "37 a 41 semanas        22523\n",
       "32 a 36 semanas         2234\n",
       "42 semanas e mais        698\n",
       "28 a 31 semanas          162\n",
       "22 a 27 semanas           85\n",
       "Menos de 22 semanas        7\n",
       "Name: GESTACAO, dtype: int64"
      ]
     },
     "execution_count": 9,
     "metadata": {},
     "output_type": "execute_result"
    }
   ],
   "source": [
    "dados['GESTACAO'].value_counts()"
   ]
  },
  {
   "cell_type": "code",
   "execution_count": 10,
   "metadata": {
    "tags": []
   },
   "outputs": [
    {
     "data": {
      "text/plain": [
       "4.516248839368616"
      ]
     },
     "execution_count": 10,
     "metadata": {},
     "output_type": "execute_result"
    }
   ],
   "source": [
    "dados['GESTACAO'].isna().sum()/dados['GESTACAO'].shape[0]*100"
   ]
  },
  {
   "cell_type": "code",
   "execution_count": 11,
   "metadata": {
    "tags": []
   },
   "outputs": [
    {
     "data": {
      "text/plain": [
       "37 a 41 semanas        22523\n",
       "32 a 36 semanas         2234\n",
       "Não informado           1216\n",
       "42 semanas e mais        698\n",
       "28 a 31 semanas          162\n",
       "22 a 27 semanas           85\n",
       "Menos de 22 semanas        7\n",
       "Name: GESTACAO, dtype: int64"
      ]
     },
     "execution_count": 11,
     "metadata": {},
     "output_type": "execute_result"
    }
   ],
   "source": [
    "dados['GESTACAO'].fillna('Não informado', inplace=True)\n",
    "dados['GESTACAO'].value_counts()"
   ]
  },
  {
   "cell_type": "code",
   "execution_count": 12,
   "metadata": {
    "tags": []
   },
   "outputs": [
    {
     "data": {
      "text/plain": [
       "Única              26356\n",
       "Dupla                488\n",
       "Tríplice e mais        5\n",
       "Name: GRAVIDEZ, dtype: int64"
      ]
     },
     "execution_count": 12,
     "metadata": {},
     "output_type": "execute_result"
    }
   ],
   "source": [
    "dados['GRAVIDEZ'].value_counts()"
   ]
  },
  {
   "cell_type": "code",
   "execution_count": 13,
   "metadata": {
    "tags": []
   },
   "outputs": [
    {
     "data": {
      "text/plain": [
       "Única              26356\n",
       "Dupla                488\n",
       "Não informado         76\n",
       "Tríplice e mais        5\n",
       "Name: GRAVIDEZ, dtype: int64"
      ]
     },
     "execution_count": 13,
     "metadata": {},
     "output_type": "execute_result"
    }
   ],
   "source": [
    "dados['GRAVIDEZ'].fillna('Não informado', inplace=True)\n",
    "dados['GRAVIDEZ'].value_counts()"
   ]
  },
  {
   "cell_type": "code",
   "execution_count": 14,
   "metadata": {
    "tags": []
   },
   "outputs": [
    {
     "name": "stdout",
     "output_type": "stream",
     "text": [
      "LOCNASC       0\n",
      "IDADEMAE      0\n",
      "ESTCIVMAE     0\n",
      "ESCMAE        0\n",
      "QTDFILVIVO    0\n",
      "GESTACAO      0\n",
      "GRAVIDEZ      0\n",
      "CONSULTAS     0\n",
      "APGAR5        0\n",
      "dtype: int64\n"
     ]
    }
   ],
   "source": [
    "print(dados[colunas].isna().sum())"
   ]
  },
  {
   "cell_type": "code",
   "execution_count": 15,
   "metadata": {},
   "outputs": [],
   "source": [
    "# 8) seu código aqui\n"
   ]
  },
  {
   "cell_type": "code",
   "execution_count": 16,
   "metadata": {
    "tags": []
   },
   "outputs": [
    {
     "data": {
      "text/plain": [
       "normal              26463\n",
       "asfixia leve          320\n",
       "asfixia severa         74\n",
       "asfixia moderada       68\n",
       "Name: CLASSIFICACAO, dtype: int64"
      ]
     },
     "execution_count": 16,
     "metadata": {},
     "output_type": "execute_result"
    }
   ],
   "source": [
    "dados[\"CLASSIFICACAO\"] = 'fora dos valores de referência'\n",
    "dados.loc[(dados[\"APGAR5\"]>=8) & (dados[\"APGAR5\"]<=10), \"CLASSIFICACAO\"] = 'normal'\n",
    "dados.loc[(dados[\"APGAR5\"]>=6) & (dados[\"APGAR5\"]<=7), \"CLASSIFICACAO\"] = 'asfixia leve'\n",
    "dados.loc[(dados[\"APGAR5\"]>=4) & (dados[\"APGAR5\"]<=5), \"CLASSIFICACAO\"] = 'asfixia moderada'\n",
    "dados.loc[(dados[\"APGAR5\"]>=0) & (dados[\"APGAR5\"]<=3), \"CLASSIFICACAO\"] = 'asfixia severa'\n",
    "\n",
    "dados[\"CLASSIFICACAO\"].value_counts()\n"
   ]
  },
  {
   "cell_type": "code",
   "execution_count": 17,
   "metadata": {
    "tags": []
   },
   "outputs": [
    {
     "data": {
      "text/plain": [
       "['origem',\n",
       " 'codestab',\n",
       " 'codmunnasc',\n",
       " 'locnasc',\n",
       " 'idademae',\n",
       " 'estcivmae',\n",
       " 'escmae',\n",
       " 'codocupmae',\n",
       " 'qtdfilvivo',\n",
       " 'qtdfilmort',\n",
       " 'codmunres',\n",
       " 'gestacao',\n",
       " 'gravidez',\n",
       " 'parto',\n",
       " 'consultas',\n",
       " 'dtnasc',\n",
       " 'horanasc',\n",
       " 'sexo',\n",
       " 'apgar1',\n",
       " 'apgar5',\n",
       " 'racacor',\n",
       " 'peso',\n",
       " 'idanomal',\n",
       " 'dtcadastro',\n",
       " 'codanomal',\n",
       " 'numerolote',\n",
       " 'versaosist',\n",
       " 'dtrecebim',\n",
       " 'difdata',\n",
       " 'dtrecoriga',\n",
       " 'naturalmae',\n",
       " 'codmunnatu',\n",
       " 'codufnatu',\n",
       " 'escmae2010',\n",
       " 'seriescmae',\n",
       " 'dtnascmae',\n",
       " 'racacormae',\n",
       " 'qtdgestant',\n",
       " 'qtdpartnor',\n",
       " 'qtdpartces',\n",
       " 'idadepai',\n",
       " 'dtultmenst',\n",
       " 'semagestac',\n",
       " 'tpmetestim',\n",
       " 'consprenat',\n",
       " 'mesprenat',\n",
       " 'tpapresent',\n",
       " 'sttrabpart',\n",
       " 'stcesparto',\n",
       " 'tpnascassi',\n",
       " 'tpfuncresp',\n",
       " 'tpdocresp',\n",
       " 'dtdeclarac',\n",
       " 'escmaeagr1',\n",
       " 'stdnepidem',\n",
       " 'stdnnova',\n",
       " 'codpaisres',\n",
       " 'tprobson',\n",
       " 'paridade',\n",
       " 'kotelchuck',\n",
       " 'contador',\n",
       " 'mun_res_status',\n",
       " 'mun_res_tipo',\n",
       " 'mun_res_nome',\n",
       " 'mun_res_uf',\n",
       " 'mun_res_lat',\n",
       " 'mun_res_lon',\n",
       " 'mun_res_alt',\n",
       " 'mun_res_area',\n",
       " 'classificacao']"
      ]
     },
     "execution_count": 17,
     "metadata": {},
     "output_type": "execute_result"
    }
   ],
   "source": [
    "# 9) seu código aqui\n",
    "colunas = list(dados.columns)\n",
    "nova_lista = []\n",
    "for palavra in colunas:\n",
    "    if palavra[0].isupper():\n",
    "        palavra = palavra.lower()\n",
    "    else:\n",
    "        palavra = ''.join(['_'+letra.lower() if letra.isupper() else letra for letra in palavra])\n",
    "    nova_lista.append(palavra)\n",
    "nova_lista"
   ]
  },
  {
   "cell_type": "code",
   "execution_count": 18,
   "metadata": {
    "tags": []
   },
   "outputs": [
    {
     "data": {
      "text/html": [
       "<div>\n",
       "<style scoped>\n",
       "    .dataframe tbody tr th:only-of-type {\n",
       "        vertical-align: middle;\n",
       "    }\n",
       "\n",
       "    .dataframe tbody tr th {\n",
       "        vertical-align: top;\n",
       "    }\n",
       "\n",
       "    .dataframe thead th {\n",
       "        text-align: right;\n",
       "    }\n",
       "</style>\n",
       "<table border=\"1\" class=\"dataframe\">\n",
       "  <thead>\n",
       "    <tr style=\"text-align: right;\">\n",
       "      <th></th>\n",
       "      <th>origem</th>\n",
       "      <th>codestab</th>\n",
       "      <th>codmunnasc</th>\n",
       "      <th>locnasc</th>\n",
       "      <th>idademae</th>\n",
       "      <th>estcivmae</th>\n",
       "      <th>escmae</th>\n",
       "      <th>codocupmae</th>\n",
       "      <th>qtdfilvivo</th>\n",
       "      <th>qtdfilmort</th>\n",
       "      <th>...</th>\n",
       "      <th>contador</th>\n",
       "      <th>mun_res_status</th>\n",
       "      <th>mun_res_tipo</th>\n",
       "      <th>mun_res_nome</th>\n",
       "      <th>mun_res_uf</th>\n",
       "      <th>mun_res_lat</th>\n",
       "      <th>mun_res_lon</th>\n",
       "      <th>mun_res_alt</th>\n",
       "      <th>mun_res_area</th>\n",
       "      <th>classificacao</th>\n",
       "    </tr>\n",
       "  </thead>\n",
       "  <tbody>\n",
       "    <tr>\n",
       "      <th>0</th>\n",
       "      <td>1</td>\n",
       "      <td>2679477.0</td>\n",
       "      <td>110001</td>\n",
       "      <td>1</td>\n",
       "      <td>19</td>\n",
       "      <td>5.0</td>\n",
       "      <td>8 a 11 anos</td>\n",
       "      <td>NaN</td>\n",
       "      <td>0.0</td>\n",
       "      <td>0.0</td>\n",
       "      <td>...</td>\n",
       "      <td>1</td>\n",
       "      <td>ATIVO</td>\n",
       "      <td>MUNIC</td>\n",
       "      <td>Alta Floresta D'Oeste</td>\n",
       "      <td>Rondônia</td>\n",
       "      <td>-11.93554</td>\n",
       "      <td>-61.99982</td>\n",
       "      <td>338.0</td>\n",
       "      <td>7067.025</td>\n",
       "      <td>normal</td>\n",
       "    </tr>\n",
       "    <tr>\n",
       "      <th>1</th>\n",
       "      <td>1</td>\n",
       "      <td>2679477.0</td>\n",
       "      <td>110001</td>\n",
       "      <td>1</td>\n",
       "      <td>29</td>\n",
       "      <td>2.0</td>\n",
       "      <td>8 a 11 anos</td>\n",
       "      <td>999992.0</td>\n",
       "      <td>1.0</td>\n",
       "      <td>0.0</td>\n",
       "      <td>...</td>\n",
       "      <td>2</td>\n",
       "      <td>ATIVO</td>\n",
       "      <td>MUNIC</td>\n",
       "      <td>Alta Floresta D'Oeste</td>\n",
       "      <td>Rondônia</td>\n",
       "      <td>-11.93554</td>\n",
       "      <td>-61.99982</td>\n",
       "      <td>338.0</td>\n",
       "      <td>7067.025</td>\n",
       "      <td>normal</td>\n",
       "    </tr>\n",
       "    <tr>\n",
       "      <th>2</th>\n",
       "      <td>1</td>\n",
       "      <td>2679477.0</td>\n",
       "      <td>110001</td>\n",
       "      <td>1</td>\n",
       "      <td>37</td>\n",
       "      <td>9.0</td>\n",
       "      <td>8 a 11 anos</td>\n",
       "      <td>513205.0</td>\n",
       "      <td>2.0</td>\n",
       "      <td>0.0</td>\n",
       "      <td>...</td>\n",
       "      <td>3</td>\n",
       "      <td>ATIVO</td>\n",
       "      <td>MUNIC</td>\n",
       "      <td>Alta Floresta D'Oeste</td>\n",
       "      <td>Rondônia</td>\n",
       "      <td>-11.93554</td>\n",
       "      <td>-61.99982</td>\n",
       "      <td>338.0</td>\n",
       "      <td>7067.025</td>\n",
       "      <td>normal</td>\n",
       "    </tr>\n",
       "    <tr>\n",
       "      <th>3</th>\n",
       "      <td>1</td>\n",
       "      <td>2516500.0</td>\n",
       "      <td>110001</td>\n",
       "      <td>1</td>\n",
       "      <td>30</td>\n",
       "      <td>5.0</td>\n",
       "      <td>12 anos ou mais</td>\n",
       "      <td>231205.0</td>\n",
       "      <td>0.0</td>\n",
       "      <td>0.0</td>\n",
       "      <td>...</td>\n",
       "      <td>4</td>\n",
       "      <td>ATIVO</td>\n",
       "      <td>MUNIC</td>\n",
       "      <td>Alto Alegre dos Parecis</td>\n",
       "      <td>Rondônia</td>\n",
       "      <td>-12.13178</td>\n",
       "      <td>-61.85308</td>\n",
       "      <td>397.0</td>\n",
       "      <td>3958.273</td>\n",
       "      <td>normal</td>\n",
       "    </tr>\n",
       "    <tr>\n",
       "      <th>4</th>\n",
       "      <td>1</td>\n",
       "      <td>2516500.0</td>\n",
       "      <td>110001</td>\n",
       "      <td>1</td>\n",
       "      <td>30</td>\n",
       "      <td>2.0</td>\n",
       "      <td>8 a 11 anos</td>\n",
       "      <td>999992.0</td>\n",
       "      <td>1.0</td>\n",
       "      <td>0.0</td>\n",
       "      <td>...</td>\n",
       "      <td>5</td>\n",
       "      <td>ATIVO</td>\n",
       "      <td>MUNIC</td>\n",
       "      <td>Alta Floresta D'Oeste</td>\n",
       "      <td>Rondônia</td>\n",
       "      <td>-11.93554</td>\n",
       "      <td>-61.99982</td>\n",
       "      <td>338.0</td>\n",
       "      <td>7067.025</td>\n",
       "      <td>normal</td>\n",
       "    </tr>\n",
       "    <tr>\n",
       "      <th>...</th>\n",
       "      <td>...</td>\n",
       "      <td>...</td>\n",
       "      <td>...</td>\n",
       "      <td>...</td>\n",
       "      <td>...</td>\n",
       "      <td>...</td>\n",
       "      <td>...</td>\n",
       "      <td>...</td>\n",
       "      <td>...</td>\n",
       "      <td>...</td>\n",
       "      <td>...</td>\n",
       "      <td>...</td>\n",
       "      <td>...</td>\n",
       "      <td>...</td>\n",
       "      <td>...</td>\n",
       "      <td>...</td>\n",
       "      <td>...</td>\n",
       "      <td>...</td>\n",
       "      <td>...</td>\n",
       "      <td>...</td>\n",
       "      <td>...</td>\n",
       "    </tr>\n",
       "    <tr>\n",
       "      <th>27023</th>\n",
       "      <td>1</td>\n",
       "      <td>2604388.0</td>\n",
       "      <td>510340</td>\n",
       "      <td>1</td>\n",
       "      <td>32</td>\n",
       "      <td>2.0</td>\n",
       "      <td>12 anos ou mais</td>\n",
       "      <td>333115.0</td>\n",
       "      <td>1.0</td>\n",
       "      <td>0.0</td>\n",
       "      <td>...</td>\n",
       "      <td>2767632</td>\n",
       "      <td>ATIVO</td>\n",
       "      <td>MUNIC</td>\n",
       "      <td>Vilhena</td>\n",
       "      <td>Rondônia</td>\n",
       "      <td>-12.74137</td>\n",
       "      <td>-60.13858</td>\n",
       "      <td>595.0</td>\n",
       "      <td>11518.915</td>\n",
       "      <td>normal</td>\n",
       "    </tr>\n",
       "    <tr>\n",
       "      <th>27024</th>\n",
       "      <td>1</td>\n",
       "      <td>2752654.0</td>\n",
       "      <td>510675</td>\n",
       "      <td>1</td>\n",
       "      <td>19</td>\n",
       "      <td>1.0</td>\n",
       "      <td>8 a 11 anos</td>\n",
       "      <td>999992.0</td>\n",
       "      <td>0.0</td>\n",
       "      <td>0.0</td>\n",
       "      <td>...</td>\n",
       "      <td>2772678</td>\n",
       "      <td>ATIVO</td>\n",
       "      <td>MUNIC</td>\n",
       "      <td>Chupinguaia</td>\n",
       "      <td>Rondônia</td>\n",
       "      <td>-12.55684</td>\n",
       "      <td>-60.90185</td>\n",
       "      <td>340.0</td>\n",
       "      <td>5126.723</td>\n",
       "      <td>normal</td>\n",
       "    </tr>\n",
       "    <tr>\n",
       "      <th>27025</th>\n",
       "      <td>1</td>\n",
       "      <td>9659366.0</td>\n",
       "      <td>510787</td>\n",
       "      <td>1</td>\n",
       "      <td>24</td>\n",
       "      <td>2.0</td>\n",
       "      <td>8 a 11 anos</td>\n",
       "      <td>421125.0</td>\n",
       "      <td>0.0</td>\n",
       "      <td>1.0</td>\n",
       "      <td>...</td>\n",
       "      <td>2776905</td>\n",
       "      <td>ATIVO</td>\n",
       "      <td>MUNIC</td>\n",
       "      <td>Vilhena</td>\n",
       "      <td>Rondônia</td>\n",
       "      <td>-12.74137</td>\n",
       "      <td>-60.13858</td>\n",
       "      <td>595.0</td>\n",
       "      <td>11518.915</td>\n",
       "      <td>normal</td>\n",
       "    </tr>\n",
       "    <tr>\n",
       "      <th>27026</th>\n",
       "      <td>1</td>\n",
       "      <td>9659366.0</td>\n",
       "      <td>510787</td>\n",
       "      <td>1</td>\n",
       "      <td>21</td>\n",
       "      <td>2.0</td>\n",
       "      <td>8 a 11 anos</td>\n",
       "      <td>999992.0</td>\n",
       "      <td>1.0</td>\n",
       "      <td>0.0</td>\n",
       "      <td>...</td>\n",
       "      <td>2777105</td>\n",
       "      <td>ATIVO</td>\n",
       "      <td>MUNIC</td>\n",
       "      <td>Vilhena</td>\n",
       "      <td>Rondônia</td>\n",
       "      <td>-12.74137</td>\n",
       "      <td>-60.13858</td>\n",
       "      <td>595.0</td>\n",
       "      <td>11518.915</td>\n",
       "      <td>normal</td>\n",
       "    </tr>\n",
       "    <tr>\n",
       "      <th>27027</th>\n",
       "      <td>1</td>\n",
       "      <td>2795655.0</td>\n",
       "      <td>510792</td>\n",
       "      <td>1</td>\n",
       "      <td>18</td>\n",
       "      <td>5.0</td>\n",
       "      <td>8 a 11 anos</td>\n",
       "      <td>999992.0</td>\n",
       "      <td>1.0</td>\n",
       "      <td>0.0</td>\n",
       "      <td>...</td>\n",
       "      <td>2780269</td>\n",
       "      <td>ATIVO</td>\n",
       "      <td>MUNIC</td>\n",
       "      <td>Novo Horizonte do Oeste</td>\n",
       "      <td>Rondônia</td>\n",
       "      <td>-11.70974</td>\n",
       "      <td>-61.99439</td>\n",
       "      <td>230.0</td>\n",
       "      <td>843.446</td>\n",
       "      <td>normal</td>\n",
       "    </tr>\n",
       "  </tbody>\n",
       "</table>\n",
       "<p>26925 rows × 70 columns</p>\n",
       "</div>"
      ],
      "text/plain": [
       "       origem   codestab  codmunnasc  locnasc  idademae  estcivmae  \\\n",
       "0           1  2679477.0      110001        1        19        5.0   \n",
       "1           1  2679477.0      110001        1        29        2.0   \n",
       "2           1  2679477.0      110001        1        37        9.0   \n",
       "3           1  2516500.0      110001        1        30        5.0   \n",
       "4           1  2516500.0      110001        1        30        2.0   \n",
       "...       ...        ...         ...      ...       ...        ...   \n",
       "27023       1  2604388.0      510340        1        32        2.0   \n",
       "27024       1  2752654.0      510675        1        19        1.0   \n",
       "27025       1  9659366.0      510787        1        24        2.0   \n",
       "27026       1  9659366.0      510787        1        21        2.0   \n",
       "27027       1  2795655.0      510792        1        18        5.0   \n",
       "\n",
       "                escmae  codocupmae  qtdfilvivo  qtdfilmort  ...  contador  \\\n",
       "0          8 a 11 anos         NaN         0.0         0.0  ...         1   \n",
       "1          8 a 11 anos    999992.0         1.0         0.0  ...         2   \n",
       "2          8 a 11 anos    513205.0         2.0         0.0  ...         3   \n",
       "3      12 anos ou mais    231205.0         0.0         0.0  ...         4   \n",
       "4          8 a 11 anos    999992.0         1.0         0.0  ...         5   \n",
       "...                ...         ...         ...         ...  ...       ...   \n",
       "27023  12 anos ou mais    333115.0         1.0         0.0  ...   2767632   \n",
       "27024      8 a 11 anos    999992.0         0.0         0.0  ...   2772678   \n",
       "27025      8 a 11 anos    421125.0         0.0         1.0  ...   2776905   \n",
       "27026      8 a 11 anos    999992.0         1.0         0.0  ...   2777105   \n",
       "27027      8 a 11 anos    999992.0         1.0         0.0  ...   2780269   \n",
       "\n",
       "      mun_res_status mun_res_tipo             mun_res_nome  mun_res_uf  \\\n",
       "0              ATIVO        MUNIC    Alta Floresta D'Oeste    Rondônia   \n",
       "1              ATIVO        MUNIC    Alta Floresta D'Oeste    Rondônia   \n",
       "2              ATIVO        MUNIC    Alta Floresta D'Oeste    Rondônia   \n",
       "3              ATIVO        MUNIC  Alto Alegre dos Parecis    Rondônia   \n",
       "4              ATIVO        MUNIC    Alta Floresta D'Oeste    Rondônia   \n",
       "...              ...          ...                      ...         ...   \n",
       "27023          ATIVO        MUNIC                  Vilhena    Rondônia   \n",
       "27024          ATIVO        MUNIC              Chupinguaia    Rondônia   \n",
       "27025          ATIVO        MUNIC                  Vilhena    Rondônia   \n",
       "27026          ATIVO        MUNIC                  Vilhena    Rondônia   \n",
       "27027          ATIVO        MUNIC  Novo Horizonte do Oeste    Rondônia   \n",
       "\n",
       "      mun_res_lat  mun_res_lon mun_res_alt  mun_res_area  classificacao  \n",
       "0       -11.93554    -61.99982       338.0      7067.025         normal  \n",
       "1       -11.93554    -61.99982       338.0      7067.025         normal  \n",
       "2       -11.93554    -61.99982       338.0      7067.025         normal  \n",
       "3       -12.13178    -61.85308       397.0      3958.273         normal  \n",
       "4       -11.93554    -61.99982       338.0      7067.025         normal  \n",
       "...           ...          ...         ...           ...            ...  \n",
       "27023   -12.74137    -60.13858       595.0     11518.915         normal  \n",
       "27024   -12.55684    -60.90185       340.0      5126.723         normal  \n",
       "27025   -12.74137    -60.13858       595.0     11518.915         normal  \n",
       "27026   -12.74137    -60.13858       595.0     11518.915         normal  \n",
       "27027   -11.70974    -61.99439       230.0       843.446         normal  \n",
       "\n",
       "[26925 rows x 70 columns]"
      ]
     },
     "execution_count": 18,
     "metadata": {},
     "output_type": "execute_result"
    }
   ],
   "source": [
    "dados.columns = nova_lista\n",
    "dados"
   ]
  }
 ],
 "metadata": {
  "kernelspec": {
   "display_name": "Python 3 (ipykernel)",
   "language": "python",
   "name": "python3"
  },
  "language_info": {
   "codemirror_mode": {
    "name": "ipython",
    "version": 3
   },
   "file_extension": ".py",
   "mimetype": "text/x-python",
   "name": "python",
   "nbconvert_exporter": "python",
   "pygments_lexer": "ipython3",
   "version": "3.10.8"
  }
 },
 "nbformat": 4,
 "nbformat_minor": 4
}
