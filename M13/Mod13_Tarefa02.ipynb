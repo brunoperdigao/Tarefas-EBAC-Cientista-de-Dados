{
 "cells": [
  {
   "cell_type": "markdown",
   "metadata": {},
   "source": [
    "# EBAC - Regressão II - regressão múltipla\n",
    "\n",
    "## Tarefa I"
   ]
  },
  {
   "cell_type": "markdown",
   "metadata": {},
   "source": [
    "#### Previsão de renda II\n",
    "\n",
    "Vamos continuar trabalhando com a base 'previsao_de_renda.csv', que é a base do seu próximo projeto. Vamos usar os recursos que vimos até aqui nesta base.\n",
    "\n",
    "|variavel|descrição|\n",
    "|-|-|\n",
    "|data_ref                | Data de referência de coleta das variáveis |\n",
    "|index                   | Código de identificação do cliente|\n",
    "|sexo                    | Sexo do cliente|\n",
    "|posse_de_veiculo        | Indica se o cliente possui veículo|\n",
    "|posse_de_imovel         | Indica se o cliente possui imóvel|\n",
    "|qtd_filhos              | Quantidade de filhos do cliente|\n",
    "|tipo_renda              | Tipo de renda do cliente|\n",
    "|educacao                | Grau de instrução do cliente|\n",
    "|estado_civil            | Estado civil do cliente|\n",
    "|tipo_residencia         | Tipo de residência do cliente (própria, alugada etc)|\n",
    "|idade                   | Idade do cliente|\n",
    "|tempo_emprego           | Tempo no emprego atual|\n",
    "|qt_pessoas_residencia   | Quantidade de pessoas que moram na residência|\n",
    "|renda                   | Renda em reais|"
   ]
  },
  {
   "cell_type": "code",
   "execution_count": 147,
   "metadata": {
    "tags": []
   },
   "outputs": [],
   "source": [
    "import pandas as pd\n",
    "import seaborn as sns\n",
    "import patsy\n",
    "from seaborn import load_dataset\n",
    "\n",
    "import matplotlib.pyplot as plt\n",
    "\n",
    "import numpy as np\n",
    "\n",
    "import statsmodels.api as sm\n",
    "import statsmodels.formula.api as smf\n",
    "\n",
    "from sklearn.model_selection import train_test_split\n",
    "from sklearn.metrics import r2_score"
   ]
  },
  {
   "cell_type": "code",
   "execution_count": 119,
   "metadata": {
    "tags": []
   },
   "outputs": [],
   "source": [
    "df = pd.read_csv('previsao_de_renda.csv')"
   ]
  },
  {
   "cell_type": "code",
   "execution_count": 120,
   "metadata": {
    "tags": []
   },
   "outputs": [
    {
     "name": "stdout",
     "output_type": "stream",
     "text": [
      "<class 'pandas.core.frame.DataFrame'>\n",
      "RangeIndex: 15000 entries, 0 to 14999\n",
      "Data columns (total 16 columns):\n",
      " #   Column                 Non-Null Count  Dtype  \n",
      "---  ------                 --------------  -----  \n",
      " 0   Unnamed: 0             15000 non-null  int64  \n",
      " 1   data_ref               15000 non-null  object \n",
      " 2   index                  15000 non-null  int64  \n",
      " 3   sexo                   15000 non-null  object \n",
      " 4   posse_de_veiculo       15000 non-null  bool   \n",
      " 5   posse_de_imovel        15000 non-null  bool   \n",
      " 6   qtd_filhos             15000 non-null  int64  \n",
      " 7   tipo_renda             15000 non-null  object \n",
      " 8   educacao               15000 non-null  object \n",
      " 9   estado_civil           15000 non-null  object \n",
      " 10  tipo_residencia        15000 non-null  object \n",
      " 11  idade                  15000 non-null  int64  \n",
      " 12  tempo_emprego          12466 non-null  float64\n",
      " 13  qt_pessoas_residencia  15000 non-null  float64\n",
      " 14  mau                    15000 non-null  bool   \n",
      " 15  renda                  15000 non-null  float64\n",
      "dtypes: bool(3), float64(3), int64(4), object(6)\n",
      "memory usage: 1.5+ MB\n"
     ]
    }
   ],
   "source": [
    "df.info()"
   ]
  },
  {
   "cell_type": "markdown",
   "metadata": {},
   "source": [
    "1. Separe a base em treinamento e teste (25% para teste, 75% para treinamento).\n",
    "2. Rode uma regularização *ridge* com alpha = [0, 0.001, 0.005, 0.01, 0.05, 0.1] e avalie o $R^2$ na base de testes. Qual o melhor modelo?\n",
    "3. Faça o mesmo que no passo 2, com uma regressão *LASSO*. Qual método chega a um melhor resultado?\n",
    "4. Rode um modelo *stepwise*. Avalie o $R^2$ na vase de testes. Qual o melhor resultado?\n",
    "5. Compare os parâmetros e avalie eventuais diferenças. Qual modelo você acha o melhor de todos?\n",
    "6. Partindo dos modelos que você ajustou, tente melhorar o $R^2$ na base de testes. Use a criatividade, veja se consegue inserir alguma transformação ou combinação de variáveis.\n",
    "7. Ajuste uma árvore de regressão e veja se consegue um $R^2$ melhor com ela."
   ]
  },
  {
   "cell_type": "code",
   "execution_count": 172,
   "metadata": {
    "tags": []
   },
   "outputs": [],
   "source": [
    "#1."
   ]
  },
  {
   "cell_type": "code",
   "execution_count": 121,
   "metadata": {
    "tags": []
   },
   "outputs": [
    {
     "data": {
      "text/plain": [
       "Index(['Unnamed: 0', 'data_ref', 'index', 'sexo', 'posse_de_veiculo',\n",
       "       'posse_de_imovel', 'qtd_filhos', 'tipo_renda', 'educacao',\n",
       "       'estado_civil', 'tipo_residencia', 'idade', 'tempo_emprego',\n",
       "       'qt_pessoas_residencia', 'mau', 'renda'],\n",
       "      dtype='object')"
      ]
     },
     "execution_count": 121,
     "metadata": {},
     "output_type": "execute_result"
    }
   ],
   "source": [
    "df.columns"
   ]
  },
  {
   "cell_type": "code",
   "execution_count": 122,
   "metadata": {
    "tags": []
   },
   "outputs": [
    {
     "data": {
      "text/plain": [
       "Index(['posse_de_veiculo', 'posse_de_imovel', 'qtd_filhos', 'idade',\n",
       "       'tempo_emprego', 'qt_pessoas_residencia', 'sexo_F', 'sexo_M',\n",
       "       'tipo_renda_Assalariado', 'tipo_renda_Bolsista',\n",
       "       'tipo_renda_Empresário', 'tipo_renda_Pensionista',\n",
       "       'tipo_renda_Servidor público', 'educacao_Primário',\n",
       "       'educacao_Pós graduação', 'educacao_Secundário',\n",
       "       'educacao_Superior completo', 'educacao_Superior incompleto',\n",
       "       'estado_civil_Casado', 'estado_civil_Separado', 'estado_civil_Solteiro',\n",
       "       'estado_civil_União', 'estado_civil_Viúvo', 'tipo_residencia_Aluguel',\n",
       "       'tipo_residencia_Casa', 'tipo_residencia_Com os pais',\n",
       "       'tipo_residencia_Comunitário', 'tipo_residencia_Estúdio',\n",
       "       'tipo_residencia_Governamental'],\n",
       "      dtype='object')"
      ]
     },
     "execution_count": 122,
     "metadata": {},
     "output_type": "execute_result"
    }
   ],
   "source": [
    "X = df[['sexo', 'posse_de_veiculo','posse_de_imovel', 'qtd_filhos', 'tipo_renda', 'educacao',\n",
    "       'estado_civil', 'tipo_residencia', 'idade', 'tempo_emprego', 'qt_pessoas_residencia']]\n",
    "y = df['renda']\n",
    "X = pd.get_dummies(X)\n",
    "X['posse_de_veiculo'] = X['posse_de_veiculo'].replace({True: 1, False: 0})\n",
    "X['posse_de_imovel'] = X['posse_de_imovel'].replace({True: 1, False: 0})\n",
    "X.columns\n",
    "\n",
    "\n"
   ]
  },
  {
   "cell_type": "code",
   "execution_count": 123,
   "metadata": {
    "tags": []
   },
   "outputs": [
    {
     "data": {
      "text/plain": [
       "'renda ~ posse_de_veiculo + posse_de_imovel + qtd_filhos + idade + tempo_emprego + qt_pessoas_residencia + sexo_F + sexo_M + tipo_renda_Assalariado + tipo_renda_Bolsista + tipo_renda_Empresário + tipo_renda_Pensionista + tipo_renda_Servidor_público + educacao_Primário + educacao_Pós_graduação + educacao_Secundário + educacao_Superior_completo + educacao_Superior_incompleto + estado_civil_Casado + estado_civil_Separado + estado_civil_Solteiro + estado_civil_União + estado_civil_Viúvo + tipo_residencia_Aluguel + tipo_residencia_Casa + tipo_residencia_Com_os_pais + tipo_residencia_Comunitário + tipo_residencia_Estúdio + tipo_residencia_Governamental'"
      ]
     },
     "execution_count": 123,
     "metadata": {},
     "output_type": "execute_result"
    }
   ],
   "source": [
    "x_columns = ['posse_de_veiculo', 'posse_de_imovel', 'qtd_filhos', 'idade',\n",
    "       'tempo_emprego', 'qt_pessoas_residencia', 'sexo_F', 'sexo_M',\n",
    "       'tipo_renda_Assalariado', 'tipo_renda_Bolsista',\n",
    "       'tipo_renda_Empresário', 'tipo_renda_Pensionista',\n",
    "       'tipo_renda_Servidor público', 'educacao_Primário',\n",
    "       'educacao_Pós graduação', 'educacao_Secundário',\n",
    "       'educacao_Superior completo', 'educacao_Superior incompleto',\n",
    "       'estado_civil_Casado', 'estado_civil_Separado', 'estado_civil_Solteiro',\n",
    "       'estado_civil_União', 'estado_civil_Viúvo', 'tipo_residencia_Aluguel',\n",
    "       'tipo_residencia_Casa', 'tipo_residencia_Com os pais',\n",
    "       'tipo_residencia_Comunitário', 'tipo_residencia_Estúdio',\n",
    "       'tipo_residencia_Governamental']\n",
    "renamed_columns = []\n",
    "for name in x_columns:\n",
    "    renamed_columns.append(name.replace(\" \", \"_\"))\n",
    "\n",
    "X.columns = renamed_columns\n",
    "formula = \"renda ~ \" + \" + \".join(renamed_columns)\n",
    "formula"
   ]
  },
  {
   "cell_type": "code",
   "execution_count": 125,
   "metadata": {
    "tags": []
   },
   "outputs": [
    {
     "data": {
      "text/plain": [
       "posse_de_veiculo                 0\n",
       "posse_de_imovel                  0\n",
       "qtd_filhos                       0\n",
       "idade                            0\n",
       "tempo_emprego                    0\n",
       "qt_pessoas_residencia            0\n",
       "sexo_F                           0\n",
       "sexo_M                           0\n",
       "tipo_renda_Assalariado           0\n",
       "tipo_renda_Bolsista              0\n",
       "tipo_renda_Empresário            0\n",
       "tipo_renda_Pensionista           0\n",
       "tipo_renda_Servidor_público      0\n",
       "educacao_Primário                0\n",
       "educacao_Pós_graduação           0\n",
       "educacao_Secundário              0\n",
       "educacao_Superior_completo       0\n",
       "educacao_Superior_incompleto     0\n",
       "estado_civil_Casado              0\n",
       "estado_civil_Separado            0\n",
       "estado_civil_Solteiro            0\n",
       "estado_civil_União               0\n",
       "estado_civil_Viúvo               0\n",
       "tipo_residencia_Aluguel          0\n",
       "tipo_residencia_Casa             0\n",
       "tipo_residencia_Com_os_pais      0\n",
       "tipo_residencia_Comunitário      0\n",
       "tipo_residencia_Estúdio          0\n",
       "tipo_residencia_Governamental    0\n",
       "dtype: int64"
      ]
     },
     "execution_count": 125,
     "metadata": {},
     "output_type": "execute_result"
    }
   ],
   "source": [
    "X['tempo_emprego'] = X['tempo_emprego'].fillna(0)\n",
    "X.isna().sum()"
   ]
  },
  {
   "cell_type": "code",
   "execution_count": 139,
   "metadata": {
    "tags": []
   },
   "outputs": [],
   "source": [
    "X_train, X_test, y_train, y_test = train_test_split(X, y, test_size = 0.25)"
   ]
  },
  {
   "cell_type": "code",
   "execution_count": 140,
   "metadata": {
    "tags": []
   },
   "outputs": [
    {
     "name": "stdout",
     "output_type": "stream",
     "text": [
      "<class 'pandas.core.frame.DataFrame'>\n",
      "Int64Index: 11250 entries, 10099 to 9382\n",
      "Data columns (total 29 columns):\n",
      " #   Column                         Non-Null Count  Dtype  \n",
      "---  ------                         --------------  -----  \n",
      " 0   posse_de_veiculo               11250 non-null  int64  \n",
      " 1   posse_de_imovel                11250 non-null  int64  \n",
      " 2   qtd_filhos                     11250 non-null  int64  \n",
      " 3   idade                          11250 non-null  int64  \n",
      " 4   tempo_emprego                  11250 non-null  float64\n",
      " 5   qt_pessoas_residencia          11250 non-null  float64\n",
      " 6   sexo_F                         11250 non-null  uint8  \n",
      " 7   sexo_M                         11250 non-null  uint8  \n",
      " 8   tipo_renda_Assalariado         11250 non-null  uint8  \n",
      " 9   tipo_renda_Bolsista            11250 non-null  uint8  \n",
      " 10  tipo_renda_Empresário          11250 non-null  uint8  \n",
      " 11  tipo_renda_Pensionista         11250 non-null  uint8  \n",
      " 12  tipo_renda_Servidor_público    11250 non-null  uint8  \n",
      " 13  educacao_Primário              11250 non-null  uint8  \n",
      " 14  educacao_Pós_graduação         11250 non-null  uint8  \n",
      " 15  educacao_Secundário            11250 non-null  uint8  \n",
      " 16  educacao_Superior_completo     11250 non-null  uint8  \n",
      " 17  educacao_Superior_incompleto   11250 non-null  uint8  \n",
      " 18  estado_civil_Casado            11250 non-null  uint8  \n",
      " 19  estado_civil_Separado          11250 non-null  uint8  \n",
      " 20  estado_civil_Solteiro          11250 non-null  uint8  \n",
      " 21  estado_civil_União             11250 non-null  uint8  \n",
      " 22  estado_civil_Viúvo             11250 non-null  uint8  \n",
      " 23  tipo_residencia_Aluguel        11250 non-null  uint8  \n",
      " 24  tipo_residencia_Casa           11250 non-null  uint8  \n",
      " 25  tipo_residencia_Com_os_pais    11250 non-null  uint8  \n",
      " 26  tipo_residencia_Comunitário    11250 non-null  uint8  \n",
      " 27  tipo_residencia_Estúdio        11250 non-null  uint8  \n",
      " 28  tipo_residencia_Governamental  11250 non-null  uint8  \n",
      "dtypes: float64(2), int64(4), uint8(23)\n",
      "memory usage: 867.9 KB\n"
     ]
    }
   ],
   "source": [
    "X_train.info()"
   ]
  },
  {
   "cell_type": "code",
   "execution_count": 141,
   "metadata": {
    "tags": []
   },
   "outputs": [],
   "source": [
    "df_test = X_train.merge(y_train, left_index=True, right_index=True)\n"
   ]
  },
  {
   "cell_type": "markdown",
   "metadata": {},
   "source": [
    "# 2.Ridge"
   ]
  },
  {
   "cell_type": "code",
   "execution_count": 150,
   "metadata": {
    "tags": []
   },
   "outputs": [],
   "source": [
    "modelo = smf.ols(formula, data=df_test)\n",
    "\n",
    "alphas = [0, 0.001, 0.005, 0.01, 0.05, 0.1]\n",
    "r2s = []\n",
    "#aics = []\n",
    "\n",
    "for alpha in alphas:\n",
    "    reg = modelo.fit_regularized(method='elastic_net',\n",
    "                            refit=True,\n",
    "                            L1_wt=0.01,\n",
    "                            alpha=alpha)\n",
    "    y_pred = reg.predict(X_test)\n",
    "    r2s.append(r2_score(y_test, y_pred))\n",
    "    #aics.append(reg.aic)"
   ]
  },
  {
   "cell_type": "code",
   "execution_count": 151,
   "metadata": {
    "tags": []
   },
   "outputs": [
    {
     "name": "stdout",
     "output_type": "stream",
     "text": [
      "Para o alpha=0, o R² é 0.21798051646263217\n",
      "Para o alpha=0.001, o R² é 0.21798051646263217\n",
      "Para o alpha=0.005, o R² é 0.21798051646263217\n",
      "Para o alpha=0.01, o R² é 0.21798051646263217\n",
      "Para o alpha=0.05, o R² é 0.21798051646263217\n",
      "Para o alpha=0.1, o R² é 0.21798051646263217\n"
     ]
    }
   ],
   "source": [
    "for i in range(len(alphas)):\n",
    "    print(f\"Para o alpha={alphas[i]}, o R² é {r2s[i]}\")"
   ]
  },
  {
   "cell_type": "code",
   "execution_count": 144,
   "metadata": {
    "tags": []
   },
   "outputs": [],
   "source": [
    "# Não há diferença no R² para os alphas apresentados"
   ]
  },
  {
   "cell_type": "markdown",
   "metadata": {},
   "source": [
    "# 3.Lasso"
   ]
  },
  {
   "cell_type": "code",
   "execution_count": 152,
   "metadata": {
    "tags": []
   },
   "outputs": [],
   "source": [
    "alphas = [0, 0.001, 0.005, 0.01, 0.05, 0.1]\n",
    "r2s = []\n",
    "#aics = []\n",
    "\n",
    "for alpha in alphas:\n",
    "    reg = modelo.fit_regularized(method='elastic_net',\n",
    "                            refit=True,\n",
    "                            L1_wt=1,\n",
    "                            alpha=alpha)\n",
    "    y_pred = reg.predict(X_test)\n",
    "    r2s.append(r2_score(y_test, y_pred))\n",
    "    #aics.append(reg.aic)"
   ]
  },
  {
   "cell_type": "code",
   "execution_count": 153,
   "metadata": {
    "tags": []
   },
   "outputs": [
    {
     "name": "stdout",
     "output_type": "stream",
     "text": [
      "Para o alpha=0, o R² é 0.21798051646263217\n",
      "Para o alpha=0.001, o R² é 0.21798051646263217\n",
      "Para o alpha=0.005, o R² é 0.21798051646263217\n",
      "Para o alpha=0.01, o R² é 0.21798051646263217\n",
      "Para o alpha=0.05, o R² é 0.21798051646263217\n",
      "Para o alpha=0.1, o R² é 0.21798051646263217\n"
     ]
    }
   ],
   "source": [
    "for i in range(len(alphas)):\n",
    "    print(f\"Para o alpha={alphas[i]}, o R² é {r2s[i]}\")"
   ]
  },
  {
   "cell_type": "markdown",
   "metadata": {},
   "source": [
    "# 4.Stepwise"
   ]
  },
  {
   "cell_type": "code",
   "execution_count": null,
   "metadata": {},
   "outputs": [
    {
     "name": "stdout",
     "output_type": "stream",
     "text": [
      "Add  tempo_emprego                  with p-value 0.0\n",
      "#############\n",
      "['tempo_emprego']\n",
      "Add  sexo_M                         with p-value 1.01861e-159\n",
      "#############\n",
      "['tempo_emprego', 'sexo_M']\n",
      "Add  tipo_renda_Assalariado         with p-value 3.16144e-64\n",
      "#############\n",
      "['tempo_emprego', 'sexo_M', 'tipo_renda_Assalariado']\n",
      "Add  idade                          with p-value 1.17977e-25\n",
      "#############\n",
      "['tempo_emprego', 'sexo_M', 'tipo_renda_Assalariado', 'idade']\n",
      "Add  educacao_Superior_completo     with p-value 6.36175e-15\n",
      "#############\n",
      "['tempo_emprego', 'sexo_M', 'tipo_renda_Assalariado', 'idade', 'educacao_Superior_completo']\n",
      "Add  sexo_F                         with p-value 1.5132e-14\n",
      "#############\n",
      "['tempo_emprego', 'sexo_M', 'tipo_renda_Assalariado', 'idade', 'educacao_Superior_completo', 'sexo_F']\n",
      "Add  posse_de_imovel                with p-value 9.38155e-09\n",
      "#############\n",
      "['tempo_emprego', 'sexo_M', 'tipo_renda_Assalariado', 'idade', 'educacao_Superior_completo', 'sexo_F', 'posse_de_imovel']\n",
      "Add  tipo_renda_Servidor_público    with p-value 4.79501e-07\n",
      "#############\n",
      "['tempo_emprego', 'sexo_M', 'tipo_renda_Assalariado', 'idade', 'educacao_Superior_completo', 'sexo_F', 'posse_de_imovel', 'tipo_renda_Servidor_público']\n",
      "Add  educacao_Pós_graduação         with p-value 0.00992108\n",
      "#############\n",
      "['tempo_emprego', 'sexo_M', 'tipo_renda_Assalariado', 'idade', 'educacao_Superior_completo', 'sexo_F', 'posse_de_imovel', 'tipo_renda_Servidor_público', 'educacao_Pós_graduação']\n",
      "Add  tipo_residencia_Casa           with p-value 0.0109143\n",
      "#############\n",
      "['tempo_emprego', 'sexo_M', 'tipo_renda_Assalariado', 'idade', 'educacao_Superior_completo', 'sexo_F', 'posse_de_imovel', 'tipo_renda_Servidor_público', 'educacao_Pós_graduação', 'tipo_residencia_Casa']\n",
      "Add  tipo_residencia_Aluguel        with p-value 0.0155089\n",
      "#############\n",
      "['tempo_emprego', 'sexo_M', 'tipo_renda_Assalariado', 'idade', 'educacao_Superior_completo', 'sexo_F', 'posse_de_imovel', 'tipo_renda_Servidor_público', 'educacao_Pós_graduação', 'tipo_residencia_Casa', 'tipo_residencia_Aluguel']\n",
      "Add  tipo_renda_Pensionista         with p-value 0.017019\n",
      "#############\n",
      "['tempo_emprego', 'sexo_M', 'tipo_renda_Assalariado', 'idade', 'educacao_Superior_completo', 'sexo_F', 'posse_de_imovel', 'tipo_renda_Servidor_público', 'educacao_Pós_graduação', 'tipo_residencia_Casa', 'tipo_residencia_Aluguel', 'tipo_renda_Pensionista']\n",
      "#############\n",
      "['tempo_emprego', 'sexo_M', 'tipo_renda_Assalariado', 'idade', 'educacao_Superior_completo', 'sexo_F', 'posse_de_imovel', 'tipo_renda_Servidor_público', 'educacao_Pós_graduação', 'tipo_residencia_Casa', 'tipo_residencia_Aluguel', 'tipo_renda_Pensionista']\n",
      "resulting features:\n",
      "['tempo_emprego', 'sexo_M', 'tipo_renda_Assalariado', 'idade', 'educacao_Superior_completo', 'sexo_F', 'posse_de_imovel', 'tipo_renda_Servidor_público', 'educacao_Pós_graduação', 'tipo_residencia_Casa', 'tipo_residencia_Aluguel', 'tipo_renda_Pensionista']\n"
     ]
    }
   ],
   "source": [
    "def stepwise_selection(X, y, \n",
    "                       initial_list=[], \n",
    "                       threshold_in=0.05, \n",
    "                       threshold_out = 0.05, \n",
    "                       verbose=True):\n",
    "    \"\"\" Perform a forward-backward feature selection \n",
    "    based on p-value from statsmodels.api.OLS\n",
    "    Arguments:\n",
    "        X - pandas.DataFrame with candidate features\n",
    "        y - list-like with the target\n",
    "        initial_list - list of features to start with (column names of X)\n",
    "        threshold_in - include a feature if its p-value < threshold_in\n",
    "        threshold_out - exclude a feature if its p-value > threshold_out\n",
    "        verbose - whether to print the sequence of inclusions and exclusions\n",
    "    Returns: list of selected features \n",
    "    Always set threshold_in < threshold_out to avoid infinite looping.\n",
    "    See https://en.wikipedia.org/wiki/Stepwise_regression for the details\n",
    "    \"\"\"\n",
    "    included = list(initial_list)\n",
    "    while True:\n",
    "        changed=False\n",
    "        # forward step\n",
    "        excluded = list(set(X.columns)-set(included))\n",
    "        new_pval = pd.Series(index=excluded, dtype=np.dtype('float64'))\n",
    "        for new_column in excluded:\n",
    "            model = sm.OLS(y, sm.add_constant(pd.DataFrame(X[included+[new_column]]))).fit()\n",
    "            new_pval[new_column] = model.pvalues[new_column]\n",
    "        best_pval = new_pval.min()\n",
    "        if best_pval < threshold_in:\n",
    "            best_feature = new_pval.index[new_pval.argmin()]\n",
    "            included.append(best_feature)\n",
    "            changed=True\n",
    "            if verbose:\n",
    "                 print('Add  {:30} with p-value {:.6}'.format(best_feature, best_pval))\n",
    "\n",
    "        # backward step\n",
    "        print(\"#############\")\n",
    "        print(included)\n",
    "        model = sm.OLS(y, sm.add_constant(pd.DataFrame(X[included]))).fit()\n",
    "        # use all coefs except intercept\n",
    "        pvalues = model.pvalues.iloc[1:]\n",
    "        worst_pval = pvalues.max() # null if pvalues is empty\n",
    "        if worst_pval > threshold_out:\n",
    "            changed=True\n",
    "            worst_feature = pvalues.argmax()\n",
    "            included.remove(worst_feature)\n",
    "            if verbose:\n",
    "                print('Drop {:30} with p-value {:.6}'.format(worst_feature, worst_pval))\n",
    "        if not changed:\n",
    "            break\n",
    "    return included\n",
    "\n",
    "variaveis = stepwise_selection(X, y)\n",
    "\n",
    "print('resulting features:')\n",
    "print(variaveis)"
   ]
  },
  {
   "cell_type": "code",
   "execution_count": 154,
   "metadata": {
    "tags": []
   },
   "outputs": [
    {
     "data": {
      "text/plain": [
       "0.20147655605279746"
      ]
     },
     "execution_count": 155,
     "metadata": {},
     "output_type": "execute_result"
    }
   ],
   "source": [
    "formula = \"renda ~ \" + \" + \".join(variaveis)\n",
    "\n",
    "modelo = smf.ols(formula, data=df_test)\n",
    "reg = modelo.fit()\n",
    "\n",
    "y_pred = reg.predict(X_test)\n",
    "r2_score(y_test, y_pred)"
   ]
  },
  {
   "cell_type": "markdown",
   "metadata": {},
   "source": [
    "# 5.Comparação\n",
    "\n",
    "### Comentário:\n",
    "Nenhum dos modelos apresentou um melhor R2. Portanto, apenas com essa métrica seria difícil escolher o melhor."
   ]
  },
  {
   "cell_type": "markdown",
   "metadata": {},
   "source": [
    "# 6.Transformações"
   ]
  },
  {
   "cell_type": "code",
   "execution_count": 156,
   "metadata": {
    "tags": []
   },
   "outputs": [
    {
     "data": {
      "text/plain": [
       "'renda ~ tempo_emprego + sexo_M + tipo_renda_Assalariado + idade + educacao_Superior_completo + sexo_F + posse_de_imovel + tipo_renda_Servidor_público + educacao_Pós_graduação + tipo_residencia_Casa + tipo_residencia_Aluguel + tipo_renda_Pensionista'"
      ]
     },
     "execution_count": 156,
     "metadata": {},
     "output_type": "execute_result"
    }
   ],
   "source": [
    "formula = \"renda ~ \" + \" + \".join(variaveis)\n",
    "formula\n"
   ]
  },
  {
   "cell_type": "code",
   "execution_count": 170,
   "metadata": {
    "tags": []
   },
   "outputs": [
    {
     "data": {
      "text/plain": [
       "'renda ~ tempo_emprego + np.power(tempo_emprego, 2) + sexo_M + tipo_renda_Assalariado + np.log(idade) + educacao_Superior_completo + sexo_F + posse_de_imovel + tipo_renda_Servidor_público + educacao_Pós_graduação + tipo_residencia_Casa + tipo_residencia_Aluguel + tipo_renda_Pensionista'"
      ]
     },
     "execution_count": 170,
     "metadata": {},
     "output_type": "execute_result"
    }
   ],
   "source": [
    "formula = 'renda ~ tempo_emprego + np.power(tempo_emprego, 2) + sexo_M + tipo_renda_Assalariado + np.log(idade) + educacao_Superior_completo + sexo_F + posse_de_imovel + tipo_renda_Servidor_público + educacao_Pós_graduação + tipo_residencia_Casa + tipo_residencia_Aluguel + tipo_renda_Pensionista'\n",
    "formula"
   ]
  },
  {
   "cell_type": "code",
   "execution_count": 171,
   "metadata": {
    "tags": []
   },
   "outputs": [
    {
     "data": {
      "text/plain": [
       "0.2315562934459694"
      ]
     },
     "execution_count": 171,
     "metadata": {},
     "output_type": "execute_result"
    }
   ],
   "source": [
    "modelo = smf.ols(formula, data=df_test)\n",
    "reg = modelo.fit()\n",
    "\n",
    "y_pred = reg.predict(X_test)\n",
    "r2_score(y_test, y_pred)"
   ]
  },
  {
   "cell_type": "markdown",
   "metadata": {},
   "source": [
    "### Comentário:\n",
    "Foi possível melhorar o R2 à partir da transformação das variáveis `tempo_emprego` e `idade`"
   ]
  },
  {
   "cell_type": "markdown",
   "metadata": {},
   "source": [
    "# 7.Árvore de regressão"
   ]
  },
  {
   "cell_type": "code",
   "execution_count": 173,
   "metadata": {
    "tags": []
   },
   "outputs": [],
   "source": [
    "from sklearn.tree import DecisionTreeRegressor"
   ]
  },
  {
   "cell_type": "code",
   "execution_count": 224,
   "metadata": {
    "tags": []
   },
   "outputs": [
    {
     "data": {
      "text/plain": [
       "0.221866423756645"
      ]
     },
     "execution_count": 224,
     "metadata": {},
     "output_type": "execute_result"
    }
   ],
   "source": [
    "r2s = []\n",
    "ind_i = []\n",
    "ind_j = []\n",
    "for i in range(2, 20):\n",
    "    for j in range(20, 60):\n",
    "        regr_1 = DecisionTreeRegressor(max_depth=i, min_samples_leaf=j)\n",
    "        regr_1.fit(X_train, y_train)\n",
    "        ind_i.append(i)\n",
    "        ind_j.append(j)\n",
    "        r2s.append(regr_1.score(X_test, y_test))\n",
    "\n",
    "\n",
    "df_r2 = pd.DataFrame({'R2':r2s, 'profundidade':ind_i, 'n_minimo':ind_j})\n",
    "#df_r2.pivot(index='profundidade', columns='n_minimo', values='R2').max()\n",
    "#sns.heatmap(df_r2.pivot(index='profundidade', columns='n_minimo', values='R2'))\n",
    "df_r2['R2'].max()"
   ]
  },
  {
   "cell_type": "code",
   "execution_count": 225,
   "metadata": {
    "tags": []
   },
   "outputs": [
    {
     "data": {
      "text/plain": [
       "0.2196223016698814"
      ]
     },
     "execution_count": 225,
     "metadata": {},
     "output_type": "execute_result"
    }
   ],
   "source": [
    "r2s = []\n",
    "ind_i = []\n",
    "ind_j = []\n",
    "for i in range(2, 20):\n",
    "    for j in range(20, 60):\n",
    "        regr_1 = DecisionTreeRegressor(max_depth=i, min_samples_leaf=j)\n",
    "        regr_1.fit(X_train[variaveis], y_train)\n",
    "        ind_i.append(i)\n",
    "        ind_j.append(j)\n",
    "        r2s.append(regr_1.score(X_test[variaveis], y_test))\n",
    "\n",
    "\n",
    "df_r2 = pd.DataFrame({'R2':r2s, 'profundidade':ind_i, 'n_minimo':ind_j})\n",
    "\n",
    "#df_r2.pivot(index='profundidade', columns='n_minimo', values='R2')\n",
    "#sns.heatmap(df_r2.pivot(index='profundidade', columns='n_minimo', values='R2'))\n",
    "df_r2['R2'].max()"
   ]
  },
  {
   "cell_type": "markdown",
   "metadata": {},
   "source": [
    "### Comentário:\n",
    "O R² máximo encontrado com árvore de regressão ainda é menor que o modelo de regressão linear utilizando o método stepwise e fazendo transformações (item 6)"
   ]
  }
 ],
 "metadata": {
  "kernelspec": {
   "display_name": "Python 3 (ipykernel)",
   "language": "python",
   "name": "python3"
  },
  "language_info": {
   "codemirror_mode": {
    "name": "ipython",
    "version": 3
   },
   "file_extension": ".py",
   "mimetype": "text/x-python",
   "name": "python",
   "nbconvert_exporter": "python",
   "pygments_lexer": "ipython3",
   "version": "3.10.8"
  }
 },
 "nbformat": 4,
 "nbformat_minor": 4
}
