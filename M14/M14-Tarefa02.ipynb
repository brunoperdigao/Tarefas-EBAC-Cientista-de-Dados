{
 "cells": [
  {
   "cell_type": "code",
   "execution_count": null,
   "id": "4203657a-a1e3-42c2-b4eb-8387327062ca",
   "metadata": {},
   "outputs": [],
   "source": [
    "import pandas as pd\n",
    "import seaborn as sns\n",
    "import matplotlib.pyplot as plt\n",
    "import os\n",
    "import sys\n",
    "sns.set_theme()  \n",
    "\n",
    "def plota_pivot_table(df, value, index, func, ylabel, xlabel, opcao='nada'):\n",
    "    if opcao == 'nada':\n",
    "        pd.pivot_table(df, values=value, index=index,\n",
    "                       aggfunc=func).plot(figsize=[15, 5])\n",
    "    elif opcao == 'sort':\n",
    "        pd.pivot_table(df, values=value, index=index,\n",
    "                       aggfunc=func).sort_values(value).plot(figsize=[15, 5])\n",
    "    elif opcao == 'unstack':\n",
    "        pd.pivot_table(df, values=value, index=index,\n",
    "                       aggfunc=func).unstack().plot(figsize=[15, 5])\n",
    "    plt.ylabel(ylabel)\n",
    "    plt.xlabel(xlabel)\n",
    "    return None\n",
    "\n",
    "meses = sys.argv[1:]\n",
    "\n",
    "for mes in meses:\n",
    "    sinasc = pd.read_csv(f'./input/SINASC_RO_2019_{mes}.csv')\n",
    "    print(sinasc.DTNASC.min(), sinasc.DTNASC.max())\n",
    "\n",
    "    max_data = sinasc.DTNASC.max()[:7]\n",
    "    print(max_data)\n",
    "    os.makedirs('./output/figs/'+max_data, exist_ok=True)\n",
    "\n",
    "\n",
    "    plota_pivot_table(sinasc, 'IDADEMAE', 'DTNASC', 'count', 'quantidade de nascimento','data de nascimento')\n",
    "    plt.savefig('./output/figs/'+max_data+'/quantidade de nascimento.png')\n",
    "\n",
    "    plota_pivot_table(sinasc, 'IDADEMAE', ['DTNASC', 'SEXO'], 'mean', 'media idade mae','data de nascimento','unstack')\n",
    "    plt.savefig('./output/figs/'+max_data+'/media idade mae por sexo.png')\n",
    "\n",
    "    plota_pivot_table(sinasc, 'PESO', ['DTNASC', 'SEXO'], 'mean', 'media peso bebe','data de nascimento','unstack')\n",
    "    plt.savefig('./output/figs/'+max_data+'/media peso bebe por sexo.png')\n",
    "\n",
    "    plota_pivot_table(sinasc, 'PESO', 'ESCMAE', 'median', 'apgar1 medio','gestacao','sort')\n",
    "    plt.savefig('./output/figs/'+max_data+'/media apgar1 por escolaridade mae.png')\n",
    "\n",
    "    plota_pivot_table(sinasc, 'APGAR1', 'GESTACAO', 'mean', 'apgar1 medio','gestacao','sort')\n",
    "    plt.savefig('./output/figs/'+max_data+'/media apgar1 por gestacao.png')\n",
    "\n",
    "    plota_pivot_table(sinasc, 'APGAR5', 'GESTACAO', 'mean', 'apgar5 medio','gestacao','sort')\n",
    "    plt.savefig('./output/figs/'+max_data+'/media apgar5 por gestacao.png')"
   ]
  }
 ],
 "metadata": {
  "kernelspec": {
   "display_name": "Python 3 (ipykernel)",
   "language": "python",
   "name": "python3"
  },
  "language_info": {
   "codemirror_mode": {
    "name": "ipython",
    "version": 3
   },
   "file_extension": ".py",
   "mimetype": "text/x-python",
   "name": "python",
   "nbconvert_exporter": "python",
   "pygments_lexer": "ipython3",
   "version": "3.10.8"
  }
 },
 "nbformat": 4,
 "nbformat_minor": 5
}
