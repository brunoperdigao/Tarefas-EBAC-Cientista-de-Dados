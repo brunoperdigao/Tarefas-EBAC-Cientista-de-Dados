{
 "cells": [
  {
   "cell_type": "markdown",
   "id": "dbb066cc-0f05-4df4-8890-e9f68a0de1c0",
   "metadata": {},
   "source": [
    "# 1. Quais são os hiperparâmetros do RF?\n",
    "\n",
    "**Resposta:**\n",
    "- Out-of-bag: É uma parte dos dados que não foi utilizada no treinamento dos diversos modelos e pode ser usada como input para testar a predição dos modelos. Assim podemos atestar qual modelo acertou ou errou a previsão. Similar a um processo de speração de treino e test.\n",
    "- Max Features: A quantidade máxima de atributos (variáveis explicativas) que será utilizado em cada subconjunto que servirá de base para treinar os modelos.\n",
    "- Min Samples Leaf: Quantidade mínimas de elementos de uma folha da árvore de decisão\n",
    "- Max Depth: A profundidade máxima do modelo de árvore de decisão.\n",
    "- N estimators: A quantidade de modelos que serão treinados com subconjuntos aleatórios dos dados."
   ]
  },
  {
   "cell_type": "markdown",
   "id": "767ae4d0-b3d3-4ee4-8e56-e2e8154b1453",
   "metadata": {},
   "source": [
    "# 2. Pra que serve cada um deles?\n",
    "\n",
    "**Resposta:**\n",
    "- Out-of-bag: Ajuda a criar métricas de erro para o conjunto de modelos\n",
    "- Max Features: Possibilita variar a combinação de diferentes variáveis, evitando problemas de covariância.\n",
    "- Min Sample Leaf: Evita a criação de nós com amostras muito pequenas, diminuindo a chance de superajuste.\n",
    "- Max Depth: Evita que se crie uma árvore muito profunda, diminuindo a chance de superajuste\n",
    "- N Estimators: Regula a quantidade de modelos, o que pode ser útil para melhorar a eficácia geral do Random Forest"
   ]
  },
  {
   "cell_type": "code",
   "execution_count": null,
   "id": "b2b3fb70-b6ac-4e60-8027-fda73a35e644",
   "metadata": {},
   "outputs": [],
   "source": []
  }
 ],
 "metadata": {
  "kernelspec": {
   "display_name": "Python 3 (ipykernel)",
   "language": "python",
   "name": "python3"
  },
  "language_info": {
   "codemirror_mode": {
    "name": "ipython",
    "version": 3
   },
   "file_extension": ".py",
   "mimetype": "text/x-python",
   "name": "python",
   "nbconvert_exporter": "python",
   "pygments_lexer": "ipython3",
   "version": "3.10.7"
  }
 },
 "nbformat": 4,
 "nbformat_minor": 5
}
