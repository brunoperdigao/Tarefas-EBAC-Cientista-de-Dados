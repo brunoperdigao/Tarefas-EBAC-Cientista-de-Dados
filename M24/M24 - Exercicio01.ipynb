{
 "cells": [
  {
   "cell_type": "markdown",
   "id": "b3362ed2-9104-427d-b7cb-2a924491d8b2",
   "metadata": {},
   "source": [
    "## 1. Cite 5 diferenças entre o Random Forest e o AdaBoost\n",
    "\n",
    "- No AdaBoost (AB) os modelos são treinados em cima de _stumps_. No Random Forest (RF) não de árvores completas.\n",
    "- No AB, os stumps são criados para cada variável explicativa. No RF se escolhe uma quantidade máxima de variáveis por amostra e sua escolha é aleatória.\n",
    "- No AB, o bootstrap (amostragem com reposição) é sobre o peso de cada linha da amostra. No boostrap do RF, todas as linhas tem o mesmo peso.\n",
    "- No AB cada modelo treinado influencia no próximo. No RF, os modelos são independentes.\n",
    "- Os resultados das previsões do modelo tem pesos diferentes para o resultado final, calculados de acordo com seu desempenho. No RF, todas os resultados têm o mesmo peso.\n",
    "\n"
   ]
  },
  {
   "cell_type": "markdown",
   "id": "58d349da-db7e-474b-9e7b-ec561144d262",
   "metadata": {},
   "source": [
    "## 2. Acesse o link [Scikit-learn – adaboost](https://scikit-learn.org/stable/modules/ensemble.html), leia a explicação (traduza se for preciso) e crie um jupyter notebook contendo o exemplo do AdaBoost."
   ]
  },
  {
   "cell_type": "code",
   "execution_count": 10,
   "id": "f3abad99-4f07-43c7-885b-e45134da6440",
   "metadata": {
    "tags": []
   },
   "outputs": [
    {
     "data": {
      "text/plain": [
       "0.9466666666666665"
      ]
     },
     "execution_count": 10,
     "metadata": {},
     "output_type": "execute_result"
    }
   ],
   "source": [
    "from sklearn.model_selection import cross_val_score\n",
    "from sklearn.datasets import load_iris\n",
    "from sklearn.ensemble import AdaBoostClassifier\n",
    "\n",
    "X, y = load_iris(return_X_y=True)\n",
    "clf = AdaBoostClassifier(n_estimators=100)\n",
    "scores = cross_val_score(clf, X, y, cv=5)\n",
    "scores.mean()"
   ]
  },
  {
   "cell_type": "markdown",
   "id": "67a2a370-131c-4416-9477-0268018490ad",
   "metadata": {},
   "source": [
    "## 3. Cite 5 Hyperparametros importantes no AdaBoost.\n",
    "\n",
    "- Modelo base\n",
    "- Quantidade de modelos\n",
    "- Profundidade da árvore dos modelos\n",
    "- Taxa de aprendizado (quanto um modelo influencia no outro)\n",
    "- Algoritmo\n"
   ]
  },
  {
   "cell_type": "markdown",
   "id": "8c466ab8-e9a8-47a4-b757-255868896c70",
   "metadata": {},
   "source": [
    "## 4. (Opcional) Utilize o GridSearch para encontrar os melhores hyperparametros para o conjunto de dados do exemplo (load_iris)"
   ]
  },
  {
   "cell_type": "code",
   "execution_count": 22,
   "id": "94a38c1e-4da3-4ee9-a76d-ed2ac062d127",
   "metadata": {},
   "outputs": [
    {
     "name": "stdout",
     "output_type": "stream",
     "text": [
      "CPU times: total: 391 ms\n",
      "Wall time: 4.31 s\n"
     ]
    },
    {
     "data": {
      "text/plain": [
       "{'learning_rate': 0.001, 'n_estimators': 200}"
      ]
     },
     "execution_count": 22,
     "metadata": {},
     "output_type": "execute_result"
    }
   ],
   "source": [
    "%%time\n",
    "\n",
    "from sklearn.model_selection import GridSearchCV\n",
    "from sklearn.tree import DecisionTreeClassifier\n",
    "\n",
    "params = {\n",
    "    \"n_estimators\": [10, 50, 100, 200, 500],\n",
    "    \"learning_rate\": [0.001, 0.01, 0.1, 1.0, 1.5, 2.0],\n",
    "}\n",
    "\n",
    "clf = AdaBoostClassifier()\n",
    "\n",
    "grid_search = GridSearchCV(\n",
    "    estimator = clf,\n",
    "    param_grid=params,\n",
    "    n_jobs=-1,\n",
    "    cv=2,\n",
    "    scoring='accuracy'\n",
    ")\n",
    "\n",
    "grid_result = grid_search.fit(X, y)\n",
    "grid_result.best_score_\n",
    "grid_result.best_params_"
   ]
  }
 ],
 "metadata": {
  "kernelspec": {
   "display_name": "Python 3 (ipykernel)",
   "language": "python",
   "name": "python3"
  },
  "language_info": {
   "codemirror_mode": {
    "name": "ipython",
    "version": 3
   },
   "file_extension": ".py",
   "mimetype": "text/x-python",
   "name": "python",
   "nbconvert_exporter": "python",
   "pygments_lexer": "ipython3",
   "version": "3.10.7"
  }
 },
 "nbformat": 4,
 "nbformat_minor": 5
}
