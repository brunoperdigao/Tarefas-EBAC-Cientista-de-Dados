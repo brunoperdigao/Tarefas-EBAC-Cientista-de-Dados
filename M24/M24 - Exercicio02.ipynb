{
 "cells": [
  {
   "cell_type": "markdown",
   "id": "b3362ed2-9104-427d-b7cb-2a924491d8b2",
   "metadata": {},
   "source": [
    "## 1. Cite 5 diferenças entre o o AdaBoost e o GBM\n",
    "\n",
    "- No AdaBoost (AB) os modelos são treinados em cima de _stumps_. No GBM não de árvores completas.\n",
    "- No AB, os stumps são criados para cada variável explicativa. No GBM as variáveis explicativas são sempre as mesmas em cada iteração, variando apenas a variável alvo.\n",
    "- No AB, o início do processo se dá através de um \"weak learner\". No GMB o início se dá com uma árvore completa.\n",
    "- No AB, é feito o bootstrap (amostragem com reposição)  sobre o peso de cada linha da amostra. No GMB, o que muda em cada iteração é a variável alvo, que vai sendo somada ao resíduo e multiplicado por um valor de referência, chamado de taxa de aprendizado.\n",
    "- No AB cada modelo treinado influencia no próximo. No RF, os modelos são independentes.\n",
    "- No AB, os resultados das previsões do modelo tem pesos diferentes para o resultado final, calculados de acordo com seu desempenho. No GBM, o resultado serve para calcular os resíduos, que será depois acrescido na variável alvo para uma nova iteração\n",
    "\n"
   ]
  },
  {
   "cell_type": "markdown",
   "id": "58d349da-db7e-474b-9e7b-ec561144d262",
   "metadata": {},
   "source": [
    "## 2. Acesse o link [Scikit-learn – GBM](https://scikit-learn.org/stable/modules/ensemble.html), leia a explicação (traduza se for preciso) e crie um jupyter notebook contendo o exemplo do AdaBoost."
   ]
  },
  {
   "cell_type": "code",
   "execution_count": 1,
   "id": "f3abad99-4f07-43c7-885b-e45134da6440",
   "metadata": {
    "tags": []
   },
   "outputs": [
    {
     "data": {
      "text/plain": [
       "0.913"
      ]
     },
     "execution_count": 1,
     "metadata": {},
     "output_type": "execute_result"
    }
   ],
   "source": [
    "from sklearn.datasets import make_hastie_10_2\n",
    "from sklearn.ensemble import GradientBoostingClassifier\n",
    "\n",
    "X, y = make_hastie_10_2(random_state=0)\n",
    "X_train, X_test = X[:2000], X[2000:]\n",
    "y_train, y_test = y[:2000], y[2000:]\n",
    "\n",
    "clf = GradientBoostingClassifier(n_estimators=100, learning_rate=1.0, max_depth=1, random_state=0).fit(X_train, y_train)\n",
    "clf.score(X_test, y_test)"
   ]
  },
  {
   "cell_type": "markdown",
   "id": "67a2a370-131c-4416-9477-0268018490ad",
   "metadata": {},
   "source": [
    "## 3. Cite 5 Hyperparametros importantes no AdaBoost.\n",
    "\n",
    "- Quantidade máxima de variáveis explicativas\n",
    "- Quantidade de modelos\n",
    "- Profundidade da árvore dos modelos\n",
    "- Taxa de aprendizado (quanto um modelo influencia no outro)\n",
    "- Mínimo de amostras por folha\n"
   ]
  },
  {
   "cell_type": "markdown",
   "id": "8c466ab8-e9a8-47a4-b757-255868896c70",
   "metadata": {},
   "source": [
    "## 4. (Opcional) Utilize o GridSearch para encontrar os melhores hyperparametros para o conjunto de dados do exemplo (load_iris)"
   ]
  },
  {
   "cell_type": "code",
   "execution_count": 7,
   "id": "94a38c1e-4da3-4ee9-a76d-ed2ac062d127",
   "metadata": {},
   "outputs": [
    {
     "name": "stdout",
     "output_type": "stream",
     "text": [
      "CPU times: total: 5.81 s\n",
      "Wall time: 3min 18s\n"
     ]
    },
    {
     "data": {
      "text/plain": [
       "{'learning_rate': 0.1,\n",
       " 'max_depth': 8,\n",
       " 'max_features': 1,\n",
       " 'min_samples_leaf': 50,\n",
       " 'n_estimators': 100}"
      ]
     },
     "execution_count": 7,
     "metadata": {},
     "output_type": "execute_result"
    }
   ],
   "source": [
    "%%time\n",
    "\n",
    "from sklearn.model_selection import GridSearchCV\n",
    "from sklearn.tree import DecisionTreeClassifier\n",
    "\n",
    "params = {\n",
    "    \"n_estimators\": [10, 50, 100],\n",
    "    \"learning_rate\": [0.001, 0.01, 0.1],\n",
    "    \"max_depth\": [3, 5, 8],\n",
    "    \"min_samples_leaf\": [5, 10, 20, 50],\n",
    "    \"max_features\": [1, 5]\n",
    "}\n",
    "\n",
    "clf = GradientBoostingClassifier()\n",
    "\n",
    "grid_search = GridSearchCV(\n",
    "    estimator = clf,\n",
    "    param_grid=params,\n",
    "    n_jobs=-1,\n",
    "    cv=2,\n",
    "    scoring='accuracy'\n",
    ")\n",
    "\n",
    "grid_result = grid_search.fit(X, y)\n",
    "grid_result.best_score_\n",
    "grid_result.best_params_"
   ]
  },
  {
   "cell_type": "markdown",
   "id": "256288e8-a8aa-4d3a-ab79-7de76468836d",
   "metadata": {},
   "source": [
    "# 5. Acessando o artigo do Jerome Friedman (Stochastic) e pensando no nome dado ao Stochastic GBM, qual é a maior diferença entre os dois algoritmos?"
   ]
  },
  {
   "cell_type": "markdown",
   "id": "f0383acf-e437-4d01-878a-cd6b80f29dcc",
   "metadata": {
    "tags": []
   },
   "source": [
    "Enquanto o GMB utiliza a mesma base de dados para todos os modelos,  o Stochastic GBM utiliza um subconjuntos com uma amostra aleatória sem repetição"
   ]
  }
 ],
 "metadata": {
  "kernelspec": {
   "display_name": "Python 3 (ipykernel)",
   "language": "python",
   "name": "python3"
  },
  "language_info": {
   "codemirror_mode": {
    "name": "ipython",
    "version": 3
   },
   "file_extension": ".py",
   "mimetype": "text/x-python",
   "name": "python",
   "nbconvert_exporter": "python",
   "pygments_lexer": "ipython3",
   "version": "3.10.7"
  }
 },
 "nbformat": 4,
 "nbformat_minor": 5
}
