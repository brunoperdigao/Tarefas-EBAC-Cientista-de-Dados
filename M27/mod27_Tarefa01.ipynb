{
 "cells": [
  {
   "cell_type": "markdown",
   "metadata": {},
   "source": [
    "![Cabec%CC%A7alho_notebook.png](cabecalho_notebook.png)"
   ]
  },
  {
   "cell_type": "markdown",
   "metadata": {},
   "source": [
    "# PCA - Tarefa 01: *HAR* com PCA\n",
    "\n",
    "Vamos trabalhar com a base da demonstração feita em aula, mas vamos explorar um pouco melhor como é o desempenho da árvore variando o número de componentes principais."
   ]
  },
  {
   "cell_type": "code",
   "execution_count": 20,
   "metadata": {
    "tags": []
   },
   "outputs": [],
   "source": [
    "import numpy as np\n",
    "import pandas as pd\n",
    "import matplotlib.pyplot as plt\n",
    "import seaborn as sns\n",
    "import time\n",
    "\n",
    "from sklearn.tree import DecisionTreeClassifier\n",
    "\n",
    "from sklearn.decomposition import PCA\n",
    "from sklearn.metrics import accuracy_score\n",
    "from sklearn.model_selection import cross_val_score\n",
    "from sklearn.model_selection import GridSearchCV\n",
    "\n",
    "filename_features = \"Dados/UCI HAR Dataset/features.txt\"\n",
    "filename_labels = \"Dados/UCI HAR Dataset/activity_labels.txt\"\n",
    "\n",
    "filename_subtrain = \"Dados/UCI HAR Dataset/train/subject_train.txt\"\n",
    "filename_xtrain = \"Dados/UCI HAR Dataset/train/X_train.txt\"\n",
    "filename_ytrain = \"Dados/UCI HAR Dataset/train/y_train.txt\"\n",
    "\n",
    "filename_subtest = \"Dados/UCI HAR Dataset/test/subject_test.txt\"\n",
    "ffilename_xtest = \"Dados/UCI HAR Dataset/test/X_test.txt\"\n",
    "filename_ytest = \"Dados/UCI HAR Dataset/test/y_test.txt\"\n",
    "\n",
    "features = pd.read_csv(filename_features, header=None, names=['nome_var'], sep=\"#\").squeeze()\n",
    "labels = pd.read_csv(filename_labels, delim_whitespace=True, header=None, names=['cod_label', 'label'])\n",
    "\n",
    "subject_train = pd.read_csv(filename_subtrain, header=None, names=['subject_id']).squeeze()\n",
    "X_train = pd.read_csv(filename_xtrain, delim_whitespace=True, header=None, names=features.tolist())\n",
    "y_train = pd.read_csv(filename_ytrain, header=None, names=['cod_label'])\n",
    "\n",
    "subject_test = pd.read_csv(filename_subtest, header=None, names=['subject_id']).squeeze()\n",
    "X_test = pd.read_csv(ffilename_xtest, delim_whitespace=True, header=None, names=features.tolist())\n",
    "y_test = pd.read_csv(filename_ytest, header=None, names=['cod_label'])"
   ]
  },
  {
   "cell_type": "markdown",
   "metadata": {},
   "source": [
    "## Árvore de decisão\n",
    "\n",
    "Rode uma árvore de decisão com todas as variáveis, utilizando o ```ccp_alpha=0.001```. Avalie a acurácia nas bases de treinamento e teste. Avalie o tempo de processamento."
   ]
  },
  {
   "cell_type": "code",
   "execution_count": 7,
   "metadata": {
    "tags": []
   },
   "outputs": [
    {
     "name": "stdout",
     "output_type": "stream",
     "text": [
      "CPU times: total: 4.94 s\n",
      "Wall time: 4.95 s\n"
     ]
    }
   ],
   "source": [
    "%%time\n",
    "clf = DecisionTreeClassifier(ccp_alpha=0.001).fit(X_train, y_train)\n",
    "\n",
    "\n"
   ]
  },
  {
   "cell_type": "code",
   "execution_count": 9,
   "metadata": {
    "tags": []
   },
   "outputs": [
    {
     "name": "stdout",
     "output_type": "stream",
     "text": [
      "Acurácia da melhor árvore na base de treino:    97.6\n",
      "Acurácia da melhor árvore na base de teste:     88.3\n"
     ]
    }
   ],
   "source": [
    "train_score = clf.score(X_train, y_train)\n",
    "test_score = clf.score(X_test, y_test)\n",
    "\n",
    "print(f'Acurácia da melhor árvore na base de treino:    {train_score*100:.1f}')\n",
    "print(f'Acurácia da melhor árvore na base de teste:     {test_score*100:.1f}')"
   ]
  },
  {
   "cell_type": "markdown",
   "metadata": {},
   "source": [
    "## Árvore com PCA\n",
    "\n",
    "Faça uma análise de componemtes principais das variáveis originais. Utilize apenas uma componente. Faça uma árvore de decisão com esta componente como variável explicativa.\n",
    "\n",
    "- Avalie a acurácia nas bases de treinamento e teste\n",
    "- Avalie o tempo de processamento"
   ]
  },
  {
   "cell_type": "code",
   "execution_count": 12,
   "metadata": {
    "tags": []
   },
   "outputs": [
    {
     "name": "stdout",
     "output_type": "stream",
     "text": [
      "CPU times: total: 1.23 s\n",
      "Wall time: 734 ms\n"
     ]
    }
   ],
   "source": [
    "%%time\n",
    "prcomp = PCA(n_components=1).fit(X_train)\n",
    "pc_train = prcomp.transform(X_train)\n",
    "pc_test = prcomp.transform(X_test)\n"
   ]
  },
  {
   "cell_type": "code",
   "execution_count": 13,
   "metadata": {
    "tags": []
   },
   "outputs": [
    {
     "name": "stdout",
     "output_type": "stream",
     "text": [
      "Acurácia da melhor árvore na base de treino:    50.0\n",
      "Acurácia da melhor árvore na base de teste:     45.7\n"
     ]
    }
   ],
   "source": [
    "clf = DecisionTreeClassifier(ccp_alpha=0.001).fit(pc_train, y_train)\n",
    "\n",
    "train_score = clf.score(pc_train, y_train)\n",
    "test_score = clf.score(pc_test, y_test)\n",
    "\n",
    "print(f'Acurácia da melhor árvore na base de treino:    {train_score*100:.1f}')\n",
    "print(f'Acurácia da melhor árvore na base de teste:     {test_score*100:.1f}')\n"
   ]
  },
  {
   "cell_type": "markdown",
   "metadata": {},
   "source": [
    "## Testando o número de componentes\n",
    "\n",
    "Com base no código acima, teste a árvore de classificação com pelo menos as seguintes possibilidades de quantidades de componentes: ```[1, 2, 5, 10, 50]```. Avalie para cada uma delas:\n",
    "\n",
    "- Acurácia nas bases de treino e teste\n",
    "- Tempo de processamento\n"
   ]
  },
  {
   "cell_type": "code",
   "execution_count": 33,
   "metadata": {
    "tags": []
   },
   "outputs": [
    {
     "name": "stdout",
     "output_type": "stream",
     "text": [
      "Acurácia da melhor árvore na base de treino para 1 componentes:    50.0\n",
      "Acurácia da melhor árvore na base de teste 1 componentes:          45.7\n",
      "Tempo de processamento: 0.37638068199157715\n",
      "-----\n",
      "Acurácia da melhor árvore na base de treino para 2 componentes:    61.3\n",
      "Acurácia da melhor árvore na base de teste 2 componentes:          58.5\n",
      "Tempo de processamento: 0.2988700866699219\n",
      "-----\n",
      "Acurácia da melhor árvore na base de treino para 5 componentes:    84.6\n",
      "Acurácia da melhor árvore na base de teste 5 componentes:          78.9\n",
      "Tempo de processamento: 0.29853391647338867\n",
      "-----\n",
      "Acurácia da melhor árvore na base de treino para 10 componentes:    89.2\n",
      "Acurácia da melhor árvore na base de teste 10 componentes:          82.4\n",
      "Tempo de processamento: 0.4995238780975342\n",
      "-----\n",
      "Acurácia da melhor árvore na base de treino para 50 componentes:    91.6\n",
      "Acurácia da melhor árvore na base de teste 50 componentes:          82.0\n",
      "Tempo de processamento: 1.078035831451416\n",
      "-----\n"
     ]
    }
   ],
   "source": [
    "prcomp_list = []\n",
    "n_comp = [1, 2, 5, 10, 50]\n",
    "\n",
    "for n in n_comp:\n",
    "    start = time.time()\n",
    "    prcomp = PCA(n_components=n).fit(X_train)\n",
    "    pc_train = prcomp.transform(X_train)\n",
    "    pc_test = prcomp.transform(X_test)\n",
    "    \n",
    "    clf = DecisionTreeClassifier(random_state=101, ccp_alpha=0.001).fit(pc_train, y_train)\n",
    "\n",
    "    train_score = clf.score(pc_train, y_train)\n",
    "    test_score = clf.score(pc_test, y_test)\n",
    "\n",
    "    print(f'Acurácia da melhor árvore na base de treino para {n} componentes:    {train_score*100:.1f}')\n",
    "    print(f'Acurácia da melhor árvore na base de teste {n} componentes:          {test_score*100:.1f}')\n",
    "    print(f'Tempo de processamento: {time.time() - start}')\n",
    "    print('-----')\n"
   ]
  },
  {
   "cell_type": "markdown",
   "metadata": {},
   "source": [
    "## Conclua\n",
    "\n",
    "- O que aconteceu com a acurácia?\n",
    "- O que aconteceu com o tempo de processamento?"
   ]
  },
  {
   "cell_type": "markdown",
   "metadata": {},
   "source": [
    "**Resposta:** Na medida que o número de componentes foi aumentando, a acurácia melhorou e o tempo de processamento aumentou. Porém, 10 para 50 componentes houve uma leve queda na acurácia para a base teste."
   ]
  }
 ],
 "metadata": {
  "kernelspec": {
   "display_name": "Python 3 (ipykernel)",
   "language": "python",
   "name": "python3"
  },
  "language_info": {
   "codemirror_mode": {
    "name": "ipython",
    "version": 3
   },
   "file_extension": ".py",
   "mimetype": "text/x-python",
   "name": "python",
   "nbconvert_exporter": "python",
   "pygments_lexer": "ipython3",
   "version": "3.10.7"
  },
  "toc": {
   "base_numbering": 1,
   "nav_menu": {},
   "number_sections": true,
   "sideBar": true,
   "skip_h1_title": true,
   "title_cell": "Índice",
   "title_sidebar": "Conteúdo",
   "toc_cell": false,
   "toc_position": {},
   "toc_section_display": true,
   "toc_window_display": false
  },
  "varInspector": {
   "cols": {
    "lenName": 16,
    "lenType": 16,
    "lenVar": 40
   },
   "kernels_config": {
    "python": {
     "delete_cmd_postfix": "",
     "delete_cmd_prefix": "del ",
     "library": "var_list.py",
     "varRefreshCmd": "print(var_dic_list())"
    },
    "r": {
     "delete_cmd_postfix": ") ",
     "delete_cmd_prefix": "rm(",
     "library": "var_list.r",
     "varRefreshCmd": "cat(var_dic_list()) "
    }
   },
   "types_to_exclude": [
    "module",
    "function",
    "builtin_function_or_method",
    "instance",
    "_Feature"
   ],
   "window_display": false
  }
 },
 "nbformat": 4,
 "nbformat_minor": 4
}
